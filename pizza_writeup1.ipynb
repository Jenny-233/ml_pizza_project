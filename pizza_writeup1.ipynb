{
 "cells": [
  {
   "cell_type": "markdown",
   "id": "d1913758-5d55-4f48-accf-98c8fad7bfed",
   "metadata": {},
   "source": [
    "<b><h1 align='center'>Pizza Price Prediction </h1></b>\n",
    "<p style=\"text-align: center;\"> by Janice Liu </p>\n",
    "\n",
    "<h3>Problem Statement </h3>\n",
    "<p>The Pizza Price Prediction project is a Machine Learning models to predict the pizza prices of restaurants in the United States based off the median household income of the restaurants' zip codes. \n",
    "\n",
    "This problem can be applied to consumers who may use a price prediction model to compare pizza prices in different areas and make informed decisions on where to order from to save money. Another target audience could be pizza chain restaurants. They may use this price prediction model to determine how to optimally price their pizzas in different geographic locations to stay competitive and maximize profits.</p>"
   ]
  },
  {
   "cell_type": "markdown",
   "id": "2f5dd660-6235-48c8-9d38-af2aad8be317",
   "metadata": {},
   "source": [
    "<h3>Dataset </h3>\n",
    "<p>Datafiniti's pizza dataset is downloaded from <a href=\"https://www.kaggle.com/datasets/datafiniti/pizza-restaurants-and-the-pizza-they-sell\">here</a>. This dataset provides over 10,000 pizza entries with 24 different features from 2,278 unique pizza restaurants in the United States. The target variable would be the price of the pizzas given the zip code of the pizza restaurant. \n",
    "\n",
    "To determine the income bracket of each zip code, <a href=\"https://www.kaggle.com/datasets/goldenoakresearch/us-household-income-stats-geo-locations/versions/1?select=US_Income_Kaggle.csv\">this</a> dataset was used. It provides over 32,000 records of zip codes with over 11 features, two of them being the zip code and its median household income. By being able to correlate the zipcode to an income bracket, the pizza dataset was then merged with this one to create models that predicted the pizza prices given a certain zipcode.</p>"
   ]
  },
  {
   "cell_type": "code",
   "execution_count": 1,
   "id": "2df1f0fa-1303-4058-b5d7-772fb41abb72",
   "metadata": {},
   "outputs": [],
   "source": [
    "import os\n",
    "import numpy as np\n",
    "import pandas as pd\n",
    "\n",
    "%matplotlib inline\n",
    "import matplotlib.pyplot as plt\n",
    "import seaborn as sns\n",
    "\n",
    "from sklearn.impute import SimpleImputer\n",
    "\n",
    "from sklearn import preprocessing\n",
    "from sklearn.preprocessing import OrdinalEncoder\n",
    "from sklearn.preprocessing import OneHotEncoder\n",
    "from sklearn.preprocessing import StandardScaler\n",
    "\n",
    "from sklearn.compose import ColumnTransformer\n",
    "from sklearn.pipeline import Pipeline\n",
    "\n",
    "from sklearn.datasets import make_classification\n",
    "from sklearn.model_selection import train_test_split\n",
    "\n",
    "from sklearn.ensemble import RandomForestRegressor\n",
    "from sklearn.model_selection import RandomizedSearchCV\n",
    "from scipy.stats import randint as sp_randint\n",
    "\n",
    "from sklearn.metrics import r2_score\n",
    "from sklearn.metrics import mean_squared_error\n",
    "\n",
    "from sklearn.inspection import permutation_importance\n",
    "\n",
    "from sklearn.inspection import PartialDependenceDisplay\n",
    "\n",
    "import warnings\n",
    "\n",
    "from xgboost import XGBRegressor\n",
    "from sklearn.metrics import accuracy_score, classification_report\n",
    "from sklearn.datasets import load_wine\n",
    "import optuna"
   ]
  },
  {
   "cell_type": "markdown",
   "id": "dbfbc4a8-d715-476b-96cd-085a75d4c3ae",
   "metadata": {},
   "source": [
    "<h4>Load in the Datasets </h4>\n",
    "<p>First, Datafiniti's pizza dataset is loaded in and then cleaned up. The zip code, or postal code, feature in the dataset was converted into strings and made uniformed by dropping all the nonexistent (\"nan\") entries and the suffixes of the postal code. To prevent extreme outliers from skewing the data, the menu.amountMax of each pizza was capped to $100. </p>"
   ]
  },
  {
   "cell_type": "code",
   "execution_count": 2,
   "id": "5bffa691-f1bf-4e72-a3c3-3c00be5197ac",
   "metadata": {},
   "outputs": [],
   "source": [
    "# load pizza dataset\n",
    "input_path = os.getcwd() + \"/input\"\n",
    "data_path = input_path + \"/pizza.csv\"\n",
    "pizza = pd.read_csv(data_path)"
   ]
  },
  {
   "cell_type": "code",
   "execution_count": 3,
   "id": "7d040df9-027e-46b9-a437-041df002a3df",
   "metadata": {},
   "outputs": [
    {
     "name": "stderr",
     "output_type": "stream",
     "text": [
      "/var/folders/0f/glct3g514dd7ylpg_7nb05c80000gn/T/ipykernel_5311/3576796121.py:9: SettingWithCopyWarning: \n",
      "A value is trying to be set on a copy of a slice from a DataFrame\n",
      "\n",
      "See the caveats in the documentation: https://pandas.pydata.org/pandas-docs/stable/user_guide/indexing.html#returning-a-view-versus-a-copy\n",
      "  pizza['postalCode'][i] = pizza['postalCode'][i].split(\"-\")[0]\n"
     ]
    }
   ],
   "source": [
    "# clean up postal code\n",
    "pizza['postalCode'] = pizza['postalCode'].astype(str)\n",
    "pizza = pizza[pizza.postalCode != \"nan\"]\n",
    "pizza = pizza[pizza[\"menus.amountMax\"] < 100.0]\n",
    "    \n",
    "for i,j in enumerate(pizza['postalCode']):    \n",
    "    # get rid of '-' postal code suffix\n",
    "    if \"-\" in j:\n",
    "        pizza['postalCode'][i] = pizza['postalCode'][i].split(\"-\")[0]"
   ]
  },
  {
   "cell_type": "markdown",
   "id": "c795750f-5b56-4336-b744-4424c9d85c19",
   "metadata": {},
   "source": [
    "<p>Then, the income dataset was loaded in. Similarly, the zip code feature was casted into string types. </p>"
   ]
  },
  {
   "cell_type": "code",
   "execution_count": 4,
   "id": "c37c59b5-91f0-4967-ac63-358d18a58119",
   "metadata": {},
   "outputs": [],
   "source": [
    "# loading income data\n",
    "data_path = input_path + \"/income.csv\"\n",
    "income = pd.read_csv(data_path,engine='python',encoding='latin1')\n",
    "income['Zip_Code'] = income['Zip_Code'].astype(str)"
   ]
  },
  {
   "cell_type": "markdown",
   "id": "9ba6d15a-9e43-4300-8fb4-1349c7f2d35e",
   "metadata": {},
   "source": [
    "<p>The pizza dataset and the income dataset is merged on their zip codes into one dataframe called complete_df, and then plotted. </p>"
   ]
  },
  {
   "cell_type": "code",
   "execution_count": 5,
   "id": "b09d70fd-fc7a-47e4-a5a4-93f1b8b22931",
   "metadata": {},
   "outputs": [
    {
     "name": "stdout",
     "output_type": "stream",
     "text": [
      "<class 'pandas.core.frame.DataFrame'>\n",
      "Index: 11259 entries, 72120 to 89128\n",
      "Data columns (total 24 columns):\n",
      " #   Column              Non-Null Count  Dtype  \n",
      "---  ------              --------------  -----  \n",
      " 0   id                  11259 non-null  object \n",
      " 1   dateAdded           11259 non-null  object \n",
      " 2   dateUpdated         11259 non-null  object \n",
      " 3   address             11259 non-null  object \n",
      " 4   categories          11259 non-null  object \n",
      " 5   primaryCategories   11259 non-null  object \n",
      " 6   city                11259 non-null  object \n",
      " 7   country             11259 non-null  object \n",
      " 8   keys                11259 non-null  object \n",
      " 9   latitude            11259 non-null  float64\n",
      " 10  longitude           11259 non-null  float64\n",
      " 11  menuPageURL         1782 non-null   object \n",
      " 12  menus.amountMax     11259 non-null  float64\n",
      " 13  menus.amountMin     11259 non-null  float64\n",
      " 14  menus.currency      11259 non-null  object \n",
      " 15  menus.dateSeen      11259 non-null  object \n",
      " 16  menus.description   4050 non-null   object \n",
      " 17  menus.name          11259 non-null  object \n",
      " 18  name                11259 non-null  object \n",
      " 19  priceRangeCurrency  11259 non-null  object \n",
      " 20  priceRangeMin       11259 non-null  int64  \n",
      " 21  priceRangeMax       11259 non-null  int64  \n",
      " 22  province            11259 non-null  object \n",
      " 23  Median              4395 non-null   float64\n",
      "dtypes: float64(5), int64(2), object(17)\n",
      "memory usage: 2.1+ MB\n"
     ]
    }
   ],
   "source": [
    "# join both datasets\n",
    "pizza_df = pd.DataFrame(pizza)\n",
    "pizza_df = pizza_df.set_index(\"postalCode\")\n",
    "\n",
    "income_df = pd.DataFrame(income[[\"Zip_Code\", \"Median\"]])\n",
    "income_df = income_df.set_index(\"Zip_Code\")\n",
    "complete_df = pizza_df.join(income_df, on='postalCode')\n",
    "complete_df.info()"
   ]
  },
  {
   "cell_type": "markdown",
   "id": "29bb91ea-549f-439d-a4cc-7b288d152c0d",
   "metadata": {},
   "source": [
    "<p>The dot graph  shows each entry of the maximum menu prices compared to the household median income of the restaurant zip code, both of which are in United States dollars. From this graph, it can be seen that as the median income increased, although it is not drastic, there are more pizzas that have higher menu maximum prices. \n",
    "\n",
    "As shown in this graph, one limitation of this data is that the income dataset does not encapsulate all the zip codes provided by the pizza dataset. Therefore, there is a portion of the data in the $0 median income range that is unusable.\n",
    "\n",
    "Despite removing some of the outliers previously, there are still some pizzas that are priced significantly higher than the rest. These data points most likely encapsulates the higher end restaurants within each neighborhood, which is more frequent in the higher median income groups. This was another limitation of the dataset, since it does not take into account the variations that determine pizza prices. The quality of the ingredients, the type of restaurant, etc. can all be factors that causes differing ranges of pizza prices. However, with this dataset, the general range of pizza prices can still be determined, which makes it a valid dataset. </p>"
   ]
  },
  {
   "cell_type": "code",
   "execution_count": 6,
   "id": "2f44e3f0-7f71-40bd-8350-989e7c846684",
   "metadata": {},
   "outputs": [
    {
     "data": {
      "text/plain": [
       "<seaborn.axisgrid.FacetGrid at 0x7ff3d2a3ee80>"
      ]
     },
     "execution_count": 6,
     "metadata": {},
     "output_type": "execute_result"
    },
    {
     "data": {
      "image/png": "[encoded data removed]",
      "text/plain": [
       "<Figure size 500x500 with 1 Axes>"
      ]
     },
     "metadata": {},
     "output_type": "display_data"
    }
   ],
   "source": [
    "sns.relplot(data=complete_df, x=complete_df[\"Median\"], y=complete_df[\"menus.amountMax\"])"
   ]
  },
  {
   "cell_type": "markdown",
   "id": "47e2452f-8ff1-43e2-a352-84e1779a4ec3",
   "metadata": {},
   "source": [
    "<h4>Transform the Merged Dataset </h4>\n",
    "<p>The features of the dataset are then transformed for the machine learning models in a pipeline to ensure that multiple transformations occur in the accurate order. First, the SimpleImputer function replaces any missing values in the household median income feature with the mean of all the household median incomes for each pizza entry. Since province, primaryCategories, and city are all features that are object values, OrdinalEncoder is used to convert the strings into integers.</p>"
   ]
  },
  {
   "cell_type": "code",
   "execution_count": 7,
   "id": "39509446-234f-4548-9824-44cf7be7343f",
   "metadata": {},
   "outputs": [
    {
     "name": "stdout",
     "output_type": "stream",
     "text": [
      "<class 'pandas.core.frame.DataFrame'>\n",
      "Index: 11259 entries, 72120 to 89128\n",
      "Data columns (total 10 columns):\n",
      " #   Column                      Non-Null Count  Dtype  \n",
      "---  ------                      --------------  -----  \n",
      " 0   imputer__Median             11259 non-null  float64\n",
      " 1   ord1__province              11259 non-null  float64\n",
      " 2   ord2__primaryCategories     11259 non-null  float64\n",
      " 3   ord3__city                  11259 non-null  float64\n",
      " 4   remainder__latitude         11259 non-null  float64\n",
      " 5   remainder__longitude        11259 non-null  float64\n",
      " 6   remainder__menus.amountMax  11259 non-null  float64\n",
      " 7   remainder__menus.amountMin  11259 non-null  float64\n",
      " 8   remainder__priceRangeMin    11259 non-null  int64  \n",
      " 9   remainder__priceRangeMax    11259 non-null  int64  \n",
      "dtypes: float64(8), int64(2)\n",
      "memory usage: 1.2+ MB\n"
     ]
    },
    {
     "data": {
      "text/html": [
       "<div>\n",
       "<style scoped>\n",
       "    .dataframe tbody tr th:only-of-type {\n",
       "        vertical-align: middle;\n",
       "    }\n",
       "\n",
       "    .dataframe tbody tr th {\n",
       "        vertical-align: top;\n",
       "    }\n",
       "\n",
       "    .dataframe thead th {\n",
       "        text-align: right;\n",
       "    }\n",
       "</style>\n",
       "<table border=\"1\" class=\"dataframe\">\n",
       "  <thead>\n",
       "    <tr style=\"text-align: right;\">\n",
       "      <th></th>\n",
       "      <th>imputer__Median</th>\n",
       "      <th>ord1__province</th>\n",
       "      <th>ord2__primaryCategories</th>\n",
       "      <th>ord3__city</th>\n",
       "      <th>remainder__latitude</th>\n",
       "      <th>remainder__longitude</th>\n",
       "      <th>remainder__menus.amountMax</th>\n",
       "      <th>remainder__menus.amountMin</th>\n",
       "      <th>remainder__priceRangeMin</th>\n",
       "      <th>remainder__priceRangeMax</th>\n",
       "    </tr>\n",
       "    <tr>\n",
       "      <th>postalCode</th>\n",
       "      <th></th>\n",
       "      <th></th>\n",
       "      <th></th>\n",
       "      <th></th>\n",
       "      <th></th>\n",
       "      <th></th>\n",
       "      <th></th>\n",
       "      <th></th>\n",
       "      <th></th>\n",
       "      <th></th>\n",
       "    </tr>\n",
       "  </thead>\n",
       "  <tbody>\n",
       "    <tr>\n",
       "      <th>72120</th>\n",
       "      <td>93909.000000</td>\n",
       "      <td>2.0</td>\n",
       "      <td>0.0</td>\n",
       "      <td>866.0</td>\n",
       "      <td>34.832300</td>\n",
       "      <td>-92.183800</td>\n",
       "      <td>7.98</td>\n",
       "      <td>7.98</td>\n",
       "      <td>0</td>\n",
       "      <td>25</td>\n",
       "    </tr>\n",
       "    <tr>\n",
       "      <th>85012</th>\n",
       "      <td>142758.854152</td>\n",
       "      <td>3.0</td>\n",
       "      <td>0.0</td>\n",
       "      <td>716.0</td>\n",
       "      <td>33.509266</td>\n",
       "      <td>-112.073044</td>\n",
       "      <td>6.00</td>\n",
       "      <td>6.00</td>\n",
       "      <td>0</td>\n",
       "      <td>25</td>\n",
       "    </tr>\n",
       "    <tr>\n",
       "      <th>45209</th>\n",
       "      <td>142758.854152</td>\n",
       "      <td>30.0</td>\n",
       "      <td>0.0</td>\n",
       "      <td>169.0</td>\n",
       "      <td>39.144883</td>\n",
       "      <td>-84.432685</td>\n",
       "      <td>6.49</td>\n",
       "      <td>6.49</td>\n",
       "      <td>0</td>\n",
       "      <td>25</td>\n",
       "    </tr>\n",
       "    <tr>\n",
       "      <th>48071</th>\n",
       "      <td>142758.854152</td>\n",
       "      <td>19.0</td>\n",
       "      <td>0.0</td>\n",
       "      <td>524.0</td>\n",
       "      <td>42.516669</td>\n",
       "      <td>-83.106630</td>\n",
       "      <td>5.99</td>\n",
       "      <td>5.99</td>\n",
       "      <td>25</td>\n",
       "      <td>40</td>\n",
       "    </tr>\n",
       "    <tr>\n",
       "      <th>21224</th>\n",
       "      <td>142758.854152</td>\n",
       "      <td>18.0</td>\n",
       "      <td>0.0</td>\n",
       "      <td>63.0</td>\n",
       "      <td>39.286630</td>\n",
       "      <td>-76.566984</td>\n",
       "      <td>5.49</td>\n",
       "      <td>5.49</td>\n",
       "      <td>0</td>\n",
       "      <td>25</td>\n",
       "    </tr>\n",
       "  </tbody>\n",
       "</table>\n",
       "</div>"
      ],
      "text/plain": [
       "            imputer__Median  ord1__province  ord2__primaryCategories  \\\n",
       "postalCode                                                             \n",
       "72120          93909.000000             2.0                      0.0   \n",
       "85012         142758.854152             3.0                      0.0   \n",
       "45209         142758.854152            30.0                      0.0   \n",
       "48071         142758.854152            19.0                      0.0   \n",
       "21224         142758.854152            18.0                      0.0   \n",
       "\n",
       "            ord3__city  remainder__latitude  remainder__longitude  \\\n",
       "postalCode                                                          \n",
       "72120            866.0            34.832300            -92.183800   \n",
       "85012            716.0            33.509266           -112.073044   \n",
       "45209            169.0            39.144883            -84.432685   \n",
       "48071            524.0            42.516669            -83.106630   \n",
       "21224             63.0            39.286630            -76.566984   \n",
       "\n",
       "            remainder__menus.amountMax  remainder__menus.amountMin  \\\n",
       "postalCode                                                           \n",
       "72120                             7.98                        7.98   \n",
       "85012                             6.00                        6.00   \n",
       "45209                             6.49                        6.49   \n",
       "48071                             5.99                        5.99   \n",
       "21224                             5.49                        5.49   \n",
       "\n",
       "            remainder__priceRangeMin  remainder__priceRangeMax  \n",
       "postalCode                                                      \n",
       "72120                              0                        25  \n",
       "85012                              0                        25  \n",
       "45209                              0                        25  \n",
       "48071                             25                        40  \n",
       "21224                              0                        25  "
      ]
     },
     "execution_count": 7,
     "metadata": {},
     "output_type": "execute_result"
    }
   ],
   "source": [
    "# create master pipeline\n",
    "data_pipeline = ColumnTransformer(\n",
    "    transformers=[('imputer', SimpleImputer(strategy='mean'), ['Median']),\n",
    "                  ('ord1', OrdinalEncoder(), ['province']),\n",
    "                  ('ord2', OrdinalEncoder(), ['primaryCategories']),\n",
    "                  ('ord3', OrdinalEncoder(), ['city']),],\n",
    "    remainder='passthrough')\n",
    "data_pipeline.set_output(transform=\"pandas\")\n",
    "\n",
    "df_processed = data_pipeline.fit_transform(complete_df)\n",
    "df_processed.drop(columns=['remainder__menuPageURL','remainder__menus.description', 'remainder__id', \n",
    "                           'remainder__address', 'remainder__country', 'remainder__keys', \n",
    "                           'remainder__menus.currency', 'remainder__priceRangeCurrency', 'remainder__name',\n",
    "                           'remainder__dateAdded', 'remainder__dateUpdated', 'remainder__menus.dateSeen'\n",
    "                          ], inplace=True)\n",
    "df_processed.drop(columns=['remainder__categories', 'remainder__menus.name',], inplace=True)\n",
    "df_processed.info()\n",
    "df_processed.head()"
   ]
  },
  {
   "cell_type": "code",
   "execution_count": 8,
   "id": "15197dd3-23a6-4548-b97f-76b8845644d4",
   "metadata": {},
   "outputs": [],
   "source": [
    "# split model\n",
    "X, y = df_processed[df_processed.columns.difference(['remainder__menus.amountMax'])], df_processed[['remainder__menus.amountMax']]\n",
    "\n",
    "X_train, X_rest, y_train, y_rest = train_test_split(\n",
    "    X, y, test_size=0.2, random_state=42)\n",
    "X_test, X_val, y_test, y_val = train_test_split(\n",
    "    X_rest, y_rest, test_size=0.5, random_state=42)"
   ]
  },
  {
   "cell_type": "code",
   "execution_count": 9,
   "id": "19ee1a23-8772-41ff-9c92-44649302274c",
   "metadata": {},
   "outputs": [
    {
     "ename": "ValueError",
     "evalue": "Found input variables with inconsistent numbers of samples: [9007, 1126]",
     "output_type": "error",
     "traceback": [
      "\u001b[0;31m---------------------------------------------------------------------------\u001b[0m",
      "\u001b[0;31mValueError\u001b[0m                                Traceback (most recent call last)",
      "\u001b[0;32m/var/folders/0f/glct3g514dd7ylpg_7nb05c80000gn/T/ipykernel_5311/273798967.py\u001b[0m in \u001b[0;36m<module>\u001b[0;34m\u001b[0m\n\u001b[1;32m      1\u001b[0m \u001b[0;31m# RandomForestRegressor model\u001b[0m\u001b[0;34m\u001b[0m\u001b[0;34m\u001b[0m\u001b[0m\n\u001b[1;32m      2\u001b[0m \u001b[0mrf\u001b[0m \u001b[0;34m=\u001b[0m \u001b[0mRandomForestRegressor\u001b[0m\u001b[0;34m(\u001b[0m\u001b[0;34m)\u001b[0m\u001b[0;34m\u001b[0m\u001b[0;34m\u001b[0m\u001b[0m\n\u001b[0;32m----> 3\u001b[0;31m \u001b[0mrf\u001b[0m\u001b[0;34m.\u001b[0m\u001b[0mfit\u001b[0m\u001b[0;34m(\u001b[0m\u001b[0mX_train\u001b[0m\u001b[0;34m,\u001b[0m \u001b[0my_val\u001b[0m\u001b[0;34m.\u001b[0m\u001b[0mvalues\u001b[0m\u001b[0;34m.\u001b[0m\u001b[0mravel\u001b[0m\u001b[0;34m(\u001b[0m\u001b[0;34m)\u001b[0m\u001b[0;34m)\u001b[0m\u001b[0;34m\u001b[0m\u001b[0;34m\u001b[0m\u001b[0m\n\u001b[0m\u001b[1;32m      4\u001b[0m \u001b[0;34m\u001b[0m\u001b[0m\n\u001b[1;32m      5\u001b[0m \u001b[0mprediction\u001b[0m \u001b[0;34m=\u001b[0m \u001b[0mrf\u001b[0m\u001b[0;34m.\u001b[0m\u001b[0mpredict\u001b[0m\u001b[0;34m(\u001b[0m\u001b[0mX_test\u001b[0m\u001b[0;34m)\u001b[0m\u001b[0;34m\u001b[0m\u001b[0;34m\u001b[0m\u001b[0m\n",
      "\u001b[0;32m~/opt/anaconda3/lib/python3.9/site-packages/sklearn/ensemble/_forest.py\u001b[0m in \u001b[0;36mfit\u001b[0;34m(self, X, y, sample_weight)\u001b[0m\n\u001b[1;32m    343\u001b[0m         \u001b[0;32mif\u001b[0m \u001b[0missparse\u001b[0m\u001b[0;34m(\u001b[0m\u001b[0my\u001b[0m\u001b[0;34m)\u001b[0m\u001b[0;34m:\u001b[0m\u001b[0;34m\u001b[0m\u001b[0;34m\u001b[0m\u001b[0m\n\u001b[1;32m    344\u001b[0m             \u001b[0;32mraise\u001b[0m \u001b[0mValueError\u001b[0m\u001b[0;34m(\u001b[0m\u001b[0;34m\"sparse multilabel-indicator for y is not supported.\"\u001b[0m\u001b[0;34m)\u001b[0m\u001b[0;34m\u001b[0m\u001b[0;34m\u001b[0m\u001b[0m\n\u001b[0;32m--> 345\u001b[0;31m         X, y = self._validate_data(\n\u001b[0m\u001b[1;32m    346\u001b[0m             \u001b[0mX\u001b[0m\u001b[0;34m,\u001b[0m \u001b[0my\u001b[0m\u001b[0;34m,\u001b[0m \u001b[0mmulti_output\u001b[0m\u001b[0;34m=\u001b[0m\u001b[0;32mTrue\u001b[0m\u001b[0;34m,\u001b[0m \u001b[0maccept_sparse\u001b[0m\u001b[0;34m=\u001b[0m\u001b[0;34m\"csc\"\u001b[0m\u001b[0;34m,\u001b[0m \u001b[0mdtype\u001b[0m\u001b[0;34m=\u001b[0m\u001b[0mDTYPE\u001b[0m\u001b[0;34m\u001b[0m\u001b[0;34m\u001b[0m\u001b[0m\n\u001b[1;32m    347\u001b[0m         )\n",
      "\u001b[0;32m~/opt/anaconda3/lib/python3.9/site-packages/sklearn/base.py\u001b[0m in \u001b[0;36m_validate_data\u001b[0;34m(self, X, y, reset, validate_separately, **check_params)\u001b[0m\n\u001b[1;32m    582\u001b[0m                 \u001b[0my\u001b[0m \u001b[0;34m=\u001b[0m \u001b[0mcheck_array\u001b[0m\u001b[0;34m(\u001b[0m\u001b[0my\u001b[0m\u001b[0;34m,\u001b[0m \u001b[0minput_name\u001b[0m\u001b[0;34m=\u001b[0m\u001b[0;34m\"y\"\u001b[0m\u001b[0;34m,\u001b[0m \u001b[0;34m**\u001b[0m\u001b[0mcheck_y_params\u001b[0m\u001b[0;34m)\u001b[0m\u001b[0;34m\u001b[0m\u001b[0;34m\u001b[0m\u001b[0m\n\u001b[1;32m    583\u001b[0m             \u001b[0;32melse\u001b[0m\u001b[0;34m:\u001b[0m\u001b[0;34m\u001b[0m\u001b[0;34m\u001b[0m\u001b[0m\n\u001b[0;32m--> 584\u001b[0;31m                 \u001b[0mX\u001b[0m\u001b[0;34m,\u001b[0m \u001b[0my\u001b[0m \u001b[0;34m=\u001b[0m \u001b[0mcheck_X_y\u001b[0m\u001b[0;34m(\u001b[0m\u001b[0mX\u001b[0m\u001b[0;34m,\u001b[0m \u001b[0my\u001b[0m\u001b[0;34m,\u001b[0m \u001b[0;34m**\u001b[0m\u001b[0mcheck_params\u001b[0m\u001b[0;34m)\u001b[0m\u001b[0;34m\u001b[0m\u001b[0;34m\u001b[0m\u001b[0m\n\u001b[0m\u001b[1;32m    585\u001b[0m             \u001b[0mout\u001b[0m \u001b[0;34m=\u001b[0m \u001b[0mX\u001b[0m\u001b[0;34m,\u001b[0m \u001b[0my\u001b[0m\u001b[0;34m\u001b[0m\u001b[0;34m\u001b[0m\u001b[0m\n\u001b[1;32m    586\u001b[0m \u001b[0;34m\u001b[0m\u001b[0m\n",
      "\u001b[0;32m~/opt/anaconda3/lib/python3.9/site-packages/sklearn/utils/validation.py\u001b[0m in \u001b[0;36mcheck_X_y\u001b[0;34m(X, y, accept_sparse, accept_large_sparse, dtype, order, copy, force_all_finite, ensure_2d, allow_nd, multi_output, ensure_min_samples, ensure_min_features, y_numeric, estimator)\u001b[0m\n\u001b[1;32m   1122\u001b[0m     \u001b[0my\u001b[0m \u001b[0;34m=\u001b[0m \u001b[0m_check_y\u001b[0m\u001b[0;34m(\u001b[0m\u001b[0my\u001b[0m\u001b[0;34m,\u001b[0m \u001b[0mmulti_output\u001b[0m\u001b[0;34m=\u001b[0m\u001b[0mmulti_output\u001b[0m\u001b[0;34m,\u001b[0m \u001b[0my_numeric\u001b[0m\u001b[0;34m=\u001b[0m\u001b[0my_numeric\u001b[0m\u001b[0;34m,\u001b[0m \u001b[0mestimator\u001b[0m\u001b[0;34m=\u001b[0m\u001b[0mestimator\u001b[0m\u001b[0;34m)\u001b[0m\u001b[0;34m\u001b[0m\u001b[0;34m\u001b[0m\u001b[0m\n\u001b[1;32m   1123\u001b[0m \u001b[0;34m\u001b[0m\u001b[0m\n\u001b[0;32m-> 1124\u001b[0;31m     \u001b[0mcheck_consistent_length\u001b[0m\u001b[0;34m(\u001b[0m\u001b[0mX\u001b[0m\u001b[0;34m,\u001b[0m \u001b[0my\u001b[0m\u001b[0;34m)\u001b[0m\u001b[0;34m\u001b[0m\u001b[0;34m\u001b[0m\u001b[0m\n\u001b[0m\u001b[1;32m   1125\u001b[0m \u001b[0;34m\u001b[0m\u001b[0m\n\u001b[1;32m   1126\u001b[0m     \u001b[0;32mreturn\u001b[0m \u001b[0mX\u001b[0m\u001b[0;34m,\u001b[0m \u001b[0my\u001b[0m\u001b[0;34m\u001b[0m\u001b[0;34m\u001b[0m\u001b[0m\n",
      "\u001b[0;32m~/opt/anaconda3/lib/python3.9/site-packages/sklearn/utils/validation.py\u001b[0m in \u001b[0;36mcheck_consistent_length\u001b[0;34m(*arrays)\u001b[0m\n\u001b[1;32m    395\u001b[0m     \u001b[0muniques\u001b[0m \u001b[0;34m=\u001b[0m \u001b[0mnp\u001b[0m\u001b[0;34m.\u001b[0m\u001b[0munique\u001b[0m\u001b[0;34m(\u001b[0m\u001b[0mlengths\u001b[0m\u001b[0;34m)\u001b[0m\u001b[0;34m\u001b[0m\u001b[0;34m\u001b[0m\u001b[0m\n\u001b[1;32m    396\u001b[0m     \u001b[0;32mif\u001b[0m \u001b[0mlen\u001b[0m\u001b[0;34m(\u001b[0m\u001b[0muniques\u001b[0m\u001b[0;34m)\u001b[0m \u001b[0;34m>\u001b[0m \u001b[0;36m1\u001b[0m\u001b[0;34m:\u001b[0m\u001b[0;34m\u001b[0m\u001b[0;34m\u001b[0m\u001b[0m\n\u001b[0;32m--> 397\u001b[0;31m         raise ValueError(\n\u001b[0m\u001b[1;32m    398\u001b[0m             \u001b[0;34m\"Found input variables with inconsistent numbers of samples: %r\"\u001b[0m\u001b[0;34m\u001b[0m\u001b[0;34m\u001b[0m\u001b[0m\n\u001b[1;32m    399\u001b[0m             \u001b[0;34m%\u001b[0m \u001b[0;34m[\u001b[0m\u001b[0mint\u001b[0m\u001b[0;34m(\u001b[0m\u001b[0ml\u001b[0m\u001b[0;34m)\u001b[0m \u001b[0;32mfor\u001b[0m \u001b[0ml\u001b[0m \u001b[0;32min\u001b[0m \u001b[0mlengths\u001b[0m\u001b[0;34m]\u001b[0m\u001b[0;34m\u001b[0m\u001b[0;34m\u001b[0m\u001b[0m\n",
      "\u001b[0;31mValueError\u001b[0m: Found input variables with inconsistent numbers of samples: [9007, 1126]"
     ]
    }
   ],
   "source": [
    "# RandomForestRegressor model\n",
    "rf = RandomForestRegressor()\n",
    "rf.fit(X_train, y_val.values.ravel())\n",
    "\n",
    "prediction = rf.predict(X_test)\n",
    "r2_score(y_test, prediction)"
   ]
  },
  {
   "cell_type": "code",
   "execution_count": null,
   "id": "a67d0833-1d20-44d7-92cf-e77e4fe3aad0",
   "metadata": {},
   "outputs": [],
   "source": [
    "# Hyperparameter tuning\n",
    "param_dist = {\"max_depth\": [3, 5], \n",
    "    \"max_features\": sp_randint(1, 11), \n",
    "    \"min_samples_split\": sp_randint(2, 11), \n",
    "    \"bootstrap\": [True, False], \n",
    "    \"criterion\": ['friedman_mse', 'poisson', 'absolute_error', 'squared_error']} \n",
    "\n",
    "rf = RandomForestRegressor()\n",
    "\n",
    "# Randomized search\n",
    "random_search = RandomizedSearchCV(rf, param_distributions=param_dist, \n",
    "    n_iter=2, cv=2) \n",
    "random_search.fit(X_train, y_train.values.ravel())\n",
    "hyperparams = random_search.best_params_"
   ]
  },
  {
   "cell_type": "code",
   "execution_count": null,
   "id": "e3be5913-b0c7-40fa-992e-d798e08461d1",
   "metadata": {},
   "outputs": [],
   "source": [
    "# train model\n",
    "rf = RandomForestRegressor(**hyperparams)\n",
    "rf.fit(X_val, y_val.values.ravel())\n",
    "\n",
    "prediction = rf.predict(X_test)\n",
    "r2_score(y_test, prediction)"
   ]
  },
  {
   "cell_type": "code",
   "execution_count": null,
   "id": "5ae4e7f9-63d4-40ca-8349-97038415ccf0",
   "metadata": {},
   "outputs": [],
   "source": [
    "prediction = rf.predict(X_test)\n",
    "mse = mean_squared_error(y_test, prediction)\n",
    "rmse = mse**.5\n",
    "print(mse)\n",
    "print(rmse)\n"
   ]
  },
  {
   "cell_type": "code",
   "execution_count": null,
   "id": "1206fe83-e2b9-4050-ba63-3a83e3498319",
   "metadata": {},
   "outputs": [],
   "source": [
    "df_processed['remainder__menus.amountMax'].describe()"
   ]
  },
  {
   "cell_type": "code",
   "execution_count": null,
   "id": "95378236-69e5-4d78-a875-f9f4b29a5f8b",
   "metadata": {},
   "outputs": [],
   "source": [
    "y_test_mean = [np.mean(y_test)]*len(y_test)\n",
    "mse = mean_squared_error(y_test, y_test_mean)\n",
    "rmse = mse**.5\n",
    "print(mse)\n",
    "print(rmse)"
   ]
  },
  {
   "cell_type": "code",
   "execution_count": null,
   "id": "fd74f565-ef64-4de1-956e-3f27fb95a9e2",
   "metadata": {},
   "outputs": [],
   "source": [
    "# build second model with xg_boost\n",
    "#hide warnings\n",
    "warnings.filterwarnings('ignore')\n",
    "\n",
    "model = XGBRegressor()\n",
    "model.fit(X_val, y_val)\n",
    "\n",
    "# R^2 value for xg_boost model\n",
    "prediction = model.predict(X_test)\n",
    "r2_score(y_test, prediction)"
   ]
  },
  {
   "cell_type": "code",
   "execution_count": null,
   "id": "345f39e2-d469-41d2-b942-72c2380befae",
   "metadata": {},
   "outputs": [],
   "source": [
    "# hyperparameter tuning of XGBoost\n",
    "\n",
    "# optuna objective function\n",
    "def objective(trial):\n",
    "    \"\"\"Define the objective function\"\"\"\n",
    "\n",
    "    params = {\n",
    "        'max_depth': trial.suggest_int('max_depth', 1, 9),\n",
    "        'learning_rate': trial.suggest_loguniform('learning_rate', 0.01, 1.0),\n",
    "        'n_estimators': trial.suggest_int('n_estimators', 50, 500),\n",
    "        'min_child_weight': trial.suggest_int('min_child_weight', 1, 10),\n",
    "        'gamma': trial.suggest_loguniform('gamma', 1e-8, 1.0),\n",
    "        'subsample': trial.suggest_loguniform('subsample', 0.01, 1.0),\n",
    "        'colsample_bytree': trial.suggest_loguniform('colsample_bytree', 0.01, 1.0),\n",
    "        'reg_alpha': trial.suggest_loguniform('reg_alpha', 1e-8, 1.0),\n",
    "        'reg_lambda': trial.suggest_loguniform('reg_lambda', 1e-8, 1.0),\n",
    "        'eval_metric': 'mlogloss',\n",
    "        'use_label_encoder': False\n",
    "    }\n",
    "\n",
    "    # Fit the model\n",
    "    optuna_model = XGBRegressor(**params)\n",
    "    optuna_model.fit(X_train, y_train)\n",
    "\n",
    "    # Make predictions\n",
    "    prediction = model.predict(X_test)\n",
    "\n",
    "    # Evaluate predictions\n",
    "    accuracy = r2_score(y_test, prediction)\n",
    "    return accuracy\n",
    "\n",
    "# optimize the objective function\n",
    "study = optuna.create_study(direction='maximize')\n",
    "study.optimize(objective, n_trials=100)\n",
    "\n",
    "# print best parameters\n",
    "print('Number of finished trials: {}'.format(len(study.trials)))\n",
    "print('Best trial:')\n",
    "trial = study.best_trial\n",
    "\n",
    "print('  Value: {}'.format(trial.value))\n",
    "print('  Params: ')\n",
    "\n",
    "for key, value in trial.params.items():\n",
    "    print('    {}: {}'.format(key, value))"
   ]
  },
  {
   "cell_type": "code",
   "execution_count": null,
   "id": "ceec2353-9b64-4ea0-a891-c6d37e2adf18",
   "metadata": {},
   "outputs": [],
   "source": [
    "# refit model\n",
    "params = trial.params\n",
    "model = XGBRegressor(**params)\n",
    "model.fit(X_val, y_val)\n",
    "\n",
    "# R^2 value for xg_boost model\n",
    "prediction = model.predict(X_test)\n",
    "r2_score(y_test, prediction)"
   ]
  },
  {
   "cell_type": "code",
   "execution_count": null,
   "id": "b7601008-4f2c-479f-b30e-7111c2b94598",
   "metadata": {},
   "outputs": [],
   "source": [
    "# determining feature importance \n",
    "result = permutation_importance(\n",
    "    rf, X_test, y_test, n_repeats=10, random_state=42, n_jobs=2\n",
    ")\n",
    "\n",
    "# feature_names = [f\"feature {i}\" for i in range(X.shape[1])]\n",
    "feature_names = X.columns\n",
    "importances = pd.Series(result.importances_mean, index=feature_names)\n",
    "\n",
    "fig, ax = plt.subplots()\n",
    "importances.plot.bar(yerr=result.importances_std, ax=ax)\n",
    "ax.set_title(\"Feature importances using permutation on full model\")\n",
    "ax.set_ylabel(\"Mean accuracy decrease\")\n",
    "fig.tight_layout()\n",
    "plt.show()"
   ]
  },
  {
   "cell_type": "code",
   "execution_count": null,
   "id": "2c4ee2d7-b473-4e3b-a9c4-95ff92ecf477",
   "metadata": {},
   "outputs": [],
   "source": [
    "# plot partial dependency plot \n",
    "features = [0, 6, (0,6)]\n",
    "PartialDependenceDisplay.from_estimator(rf, X, features)"
   ]
  },
  {
   "cell_type": "code",
   "execution_count": null,
   "id": "fdc4d0df-e37f-4f2f-8ecd-807c5a4b317c",
   "metadata": {},
   "outputs": [],
   "source": [
    "# train new model without remainder_menus.amountMin\n",
    "df_processed.drop(columns=['remainder__menus.amountMin',], inplace=True)\n",
    "\n",
    "# split model\n",
    "X, y = df_processed[df_processed.columns.difference(['remainder__menus.amountMax'])], df_processed[['remainder__menus.amountMax']]\n",
    "\n",
    "X_train, X_rest, y_train, y_rest = train_test_split(\n",
    "    X, y, test_size=0.8, random_state=42)\n",
    "X_test, X_val, y_test, y_val = train_test_split(\n",
    "    X_rest, y_rest, test_size=0.5, random_state=42)\n",
    "\n",
    "# train model\n",
    "rf = RandomForestRegressor()\n",
    "rf.fit(X_train, y_train.values.ravel())\n",
    "\n",
    "prediction = rf.predict(X_val)\n",
    "print(r2_score(y_val, prediction))"
   ]
  },
  {
   "cell_type": "code",
   "execution_count": null,
   "id": "80cde9a3-e54d-4e4d-a4fe-e2185e3ba64f",
   "metadata": {},
   "outputs": [],
   "source": [
    "# determining feature importance w/o remainder__princeRangeMax\n",
    "result = permutation_importance(\n",
    "    rf, X_test, y_test, n_repeats=10, random_state=42, n_jobs=2\n",
    ")\n",
    "\n",
    "# feature_names = [f\"feature {i}\" for i in range(X.shape[1])]\n",
    "feature_names = X.columns\n",
    "importances = pd.Series(result.importances_mean, index=feature_names)\n",
    "\n",
    "fig, ax = plt.subplots()\n",
    "importances.plot.bar(yerr=result.importances_std, ax=ax)\n",
    "ax.set_title(\"Feature importances using permutation on full model\")\n",
    "ax.set_ylabel(\"Mean accuracy decrease\")\n",
    "fig.tight_layout()\n",
    "plt.show()\n",
    "\n",
    "# shows that the model needs menu amountMin to have accurate prediction, or else it's dependent on it's coordinate \n",
    "# but it wasn't that accurate"
   ]
  },
  {
   "cell_type": "code",
   "execution_count": null,
   "id": "af3aaa6a-26e9-45cc-818a-67ad1332fbfd",
   "metadata": {},
   "outputs": [],
   "source": []
  }
 ],
 "metadata": {
  "kernelspec": {
   "display_name": "Python 3 (ipykernel)",
   "language": "python",
   "name": "python3"
  },
  "language_info": {
   "codemirror_mode": {
    "name": "ipython",
    "version": 3
   },
   "file_extension": ".py",
   "mimetype": "text/x-python",
   "name": "python",
   "nbconvert_exporter": "python",
   "pygments_lexer": "ipython3",
   "version": "3.9.13"
  }
 },
 "nbformat": 4,
 "nbformat_minor": 5
}
